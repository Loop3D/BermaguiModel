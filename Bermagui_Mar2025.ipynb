{
 "cells": [
  {
   "cell_type": "markdown",
   "metadata": {
    "id": "ipX2DwDKv7KY"
   },
   "source": [
    "\n",
    "3D modelling of the structures observed at Dicksinson Point, Bermagui, NSW.\n",
    "===================\n",
    "\n",
    "\n",
    "\n"
   ]
  },
  {
   "cell_type": "markdown",
   "metadata": {},
   "source": [
    "### The structure was mapped during multiple field trips as part of the Victorian Institute of Earth and Planetary Science, Monash University, Advanced Structural Mapping course"
   ]
  },
  {
   "cell_type": "markdown",
   "metadata": {},
   "source": [
    "### No real data are used as the course is taught without a compass... We have attempted to generate \"synthetic\" data to explain how the model is built.  S4, S3, and S2 are built using data, however S0/S1 is built using a sinusoidal profile fitting the qualitative observations in the field. Future iterations of this notebook will use field measured data."
   ]
  },
  {
   "cell_type": "markdown",
   "metadata": {},
   "source": [
    "#### Loading the required libraries from LoopStructural, numpy, pandas and matplotlib. Setting up the model extent"
   ]
  },
  {
   "cell_type": "code",
   "execution_count": 1,
   "metadata": {},
   "outputs": [
    {
     "name": "stdout",
     "output_type": "stream",
     "text": [
      "Not running on CoLab, nothing to do\n"
     ]
    }
   ],
   "source": [
    "if 'google.colab' in str(get_ipython()):\n",
    "      !git clone https://github.com/Loop3D/BermaguiModel.git\n",
    "      !pip install LoopStructural Loopstructuralvisualisation trame\n",
    "      %cd BermaguiModel\n",
    "else:\n",
    "      print('Not running on CoLab, nothing to do')"
   ]
  },
  {
   "cell_type": "code",
   "execution_count": 1,
   "metadata": {
    "id": "AZQ72qbIv7Ki"
   },
   "outputs": [
    {
     "name": "stderr",
     "output_type": "stream",
     "text": [
      "WARNING: 2025-03-27 11:39:25,300: __init__.py:86 -- Surfe is not installed, SurfeRBFInterpolator will not be available\n",
      "WARNING: 2025-03-27 11:39:25,624: __init__.py:25 -- Cannot use LoopProjectfileProcessor: Loop project file cannot be imported, try installing LoopProjectFile\n"
     ]
    }
   ],
   "source": [
    "from LoopStructural import GeologicalModel\n",
    "from LoopStructural.visualisation import Loop3DView, RotationAnglePlotter\n",
    "from LoopStructural.modelling.features.fold.fold_function import FoldRotationType\n",
    "\n",
    "import numpy as np\n",
    "import pandas as pd\n",
    "import matplotlib.pyplot as plt\n",
    "\n",
    "origin = (0.0, 0.0,0.0)          \n",
    "maximum = (8000,2000,8000) #12000, 2000, 13000\n",
    "bb = np.zeros((2,3))\n",
    "bb[0,0] = origin[0] \n",
    "bb[0,1] = origin[1] \n",
    "bb[0,2] = origin[2]\n",
    "bb[1,0] = maximum[0]\n",
    "bb[1,1] = maximum[1]\n",
    "bb[1,2] = maximum[2]"
   ]
  },
  {
   "cell_type": "markdown",
   "metadata": {},
   "source": [
    "### Reading data in and displaying the data"
   ]
  },
  {
   "cell_type": "code",
   "execution_count": 2,
   "metadata": {
    "colab": {
     "base_uri": "https://localhost:8080/",
     "height": 1000
    },
    "id": "Fae3_7cH9l42",
    "outputId": "4a163193-ea6d-4117-d4bf-0bf70b582354"
   },
   "outputs": [
    {
     "data": {
      "text/html": [
       "<div>\n",
       "<style scoped>\n",
       "    .dataframe tbody tr th:only-of-type {\n",
       "        vertical-align: middle;\n",
       "    }\n",
       "\n",
       "    .dataframe tbody tr th {\n",
       "        vertical-align: top;\n",
       "    }\n",
       "\n",
       "    .dataframe thead th {\n",
       "        text-align: right;\n",
       "    }\n",
       "</style>\n",
       "<table border=\"1\" class=\"dataframe\">\n",
       "  <thead>\n",
       "    <tr style=\"text-align: right;\">\n",
       "      <th></th>\n",
       "      <th>X</th>\n",
       "      <th>Y</th>\n",
       "      <th>Z</th>\n",
       "      <th>nx</th>\n",
       "      <th>ny</th>\n",
       "      <th>nz</th>\n",
       "      <th>feature_name</th>\n",
       "      <th>val</th>\n",
       "      <th>Unnamed: 8</th>\n",
       "    </tr>\n",
       "  </thead>\n",
       "  <tbody>\n",
       "    <tr>\n",
       "      <th>0</th>\n",
       "      <td>4300</td>\n",
       "      <td>1000</td>\n",
       "      <td>7500</td>\n",
       "      <td>-0.342020</td>\n",
       "      <td>0.0</td>\n",
       "      <td>-0.939693</td>\n",
       "      <td>S0</td>\n",
       "      <td>NaN</td>\n",
       "      <td>NaN</td>\n",
       "    </tr>\n",
       "    <tr>\n",
       "      <th>1</th>\n",
       "      <td>5200</td>\n",
       "      <td>1000</td>\n",
       "      <td>6800</td>\n",
       "      <td>-1.000000</td>\n",
       "      <td>0.0</td>\n",
       "      <td>0.000000</td>\n",
       "      <td>S0</td>\n",
       "      <td>NaN</td>\n",
       "      <td>NaN</td>\n",
       "    </tr>\n",
       "    <tr>\n",
       "      <th>2</th>\n",
       "      <td>4000</td>\n",
       "      <td>1000</td>\n",
       "      <td>5600</td>\n",
       "      <td>-0.707107</td>\n",
       "      <td>0.0</td>\n",
       "      <td>0.707107</td>\n",
       "      <td>S0</td>\n",
       "      <td>NaN</td>\n",
       "      <td>NaN</td>\n",
       "    </tr>\n",
       "    <tr>\n",
       "      <th>3</th>\n",
       "      <td>4000</td>\n",
       "      <td>1000</td>\n",
       "      <td>4000</td>\n",
       "      <td>-0.707107</td>\n",
       "      <td>0.0</td>\n",
       "      <td>-0.707107</td>\n",
       "      <td>S0</td>\n",
       "      <td>NaN</td>\n",
       "      <td>NaN</td>\n",
       "    </tr>\n",
       "    <tr>\n",
       "      <th>4</th>\n",
       "      <td>6000</td>\n",
       "      <td>1000</td>\n",
       "      <td>4100</td>\n",
       "      <td>0.707107</td>\n",
       "      <td>0.0</td>\n",
       "      <td>-0.707107</td>\n",
       "      <td>S0</td>\n",
       "      <td>NaN</td>\n",
       "      <td>NaN</td>\n",
       "    </tr>\n",
       "    <tr>\n",
       "      <th>5</th>\n",
       "      <td>6750</td>\n",
       "      <td>1000</td>\n",
       "      <td>5800</td>\n",
       "      <td>0.819152</td>\n",
       "      <td>0.0</td>\n",
       "      <td>-0.573576</td>\n",
       "      <td>S0</td>\n",
       "      <td>NaN</td>\n",
       "      <td>NaN</td>\n",
       "    </tr>\n",
       "    <tr>\n",
       "      <th>6</th>\n",
       "      <td>8000</td>\n",
       "      <td>1000</td>\n",
       "      <td>7200</td>\n",
       "      <td>0.906308</td>\n",
       "      <td>0.0</td>\n",
       "      <td>0.422618</td>\n",
       "      <td>S0</td>\n",
       "      <td>NaN</td>\n",
       "      <td>NaN</td>\n",
       "    </tr>\n",
       "    <tr>\n",
       "      <th>7</th>\n",
       "      <td>7100</td>\n",
       "      <td>1000</td>\n",
       "      <td>7200</td>\n",
       "      <td>0.173648</td>\n",
       "      <td>0.0</td>\n",
       "      <td>0.984808</td>\n",
       "      <td>S0</td>\n",
       "      <td>NaN</td>\n",
       "      <td>NaN</td>\n",
       "    </tr>\n",
       "    <tr>\n",
       "      <th>8</th>\n",
       "      <td>1200</td>\n",
       "      <td>1000</td>\n",
       "      <td>11600</td>\n",
       "      <td>0.000000</td>\n",
       "      <td>0.0</td>\n",
       "      <td>1.000000</td>\n",
       "      <td>S2</td>\n",
       "      <td>1.0</td>\n",
       "      <td>`</td>\n",
       "    </tr>\n",
       "    <tr>\n",
       "      <th>9</th>\n",
       "      <td>4800</td>\n",
       "      <td>1000</td>\n",
       "      <td>8250</td>\n",
       "      <td>0.422618</td>\n",
       "      <td>0.0</td>\n",
       "      <td>0.906308</td>\n",
       "      <td>S2</td>\n",
       "      <td>NaN</td>\n",
       "      <td>NaN</td>\n",
       "    </tr>\n",
       "    <tr>\n",
       "      <th>10</th>\n",
       "      <td>6500</td>\n",
       "      <td>1000</td>\n",
       "      <td>6600</td>\n",
       "      <td>0.984808</td>\n",
       "      <td>0.0</td>\n",
       "      <td>0.173648</td>\n",
       "      <td>S2</td>\n",
       "      <td>NaN</td>\n",
       "      <td>NaN</td>\n",
       "    </tr>\n",
       "    <tr>\n",
       "      <th>11</th>\n",
       "      <td>5000</td>\n",
       "      <td>1000</td>\n",
       "      <td>5500</td>\n",
       "      <td>0.258819</td>\n",
       "      <td>0.0</td>\n",
       "      <td>-0.965926</td>\n",
       "      <td>S2</td>\n",
       "      <td>NaN</td>\n",
       "      <td>NaN</td>\n",
       "    </tr>\n",
       "    <tr>\n",
       "      <th>12</th>\n",
       "      <td>6200</td>\n",
       "      <td>1000</td>\n",
       "      <td>6000</td>\n",
       "      <td>0.707107</td>\n",
       "      <td>0.0</td>\n",
       "      <td>-0.707107</td>\n",
       "      <td>S2</td>\n",
       "      <td>NaN</td>\n",
       "      <td>NaN</td>\n",
       "    </tr>\n",
       "    <tr>\n",
       "      <th>13</th>\n",
       "      <td>3250</td>\n",
       "      <td>1000</td>\n",
       "      <td>3500</td>\n",
       "      <td>1.000000</td>\n",
       "      <td>0.0</td>\n",
       "      <td>0.000000</td>\n",
       "      <td>S2</td>\n",
       "      <td>NaN</td>\n",
       "      <td>NaN</td>\n",
       "    </tr>\n",
       "    <tr>\n",
       "      <th>14</th>\n",
       "      <td>6900</td>\n",
       "      <td>1000</td>\n",
       "      <td>800</td>\n",
       "      <td>0.000000</td>\n",
       "      <td>0.0</td>\n",
       "      <td>1.000000</td>\n",
       "      <td>S2</td>\n",
       "      <td>NaN</td>\n",
       "      <td>NaN</td>\n",
       "    </tr>\n",
       "    <tr>\n",
       "      <th>15</th>\n",
       "      <td>0</td>\n",
       "      <td>1000</td>\n",
       "      <td>5000</td>\n",
       "      <td>-0.258819</td>\n",
       "      <td>0.0</td>\n",
       "      <td>0.965926</td>\n",
       "      <td>S3</td>\n",
       "      <td>NaN</td>\n",
       "      <td>NaN</td>\n",
       "    </tr>\n",
       "    <tr>\n",
       "      <th>16</th>\n",
       "      <td>1000</td>\n",
       "      <td>1000</td>\n",
       "      <td>5000</td>\n",
       "      <td>0.000000</td>\n",
       "      <td>0.0</td>\n",
       "      <td>1.000000</td>\n",
       "      <td>S3</td>\n",
       "      <td>NaN</td>\n",
       "      <td>NaN</td>\n",
       "    </tr>\n",
       "    <tr>\n",
       "      <th>17</th>\n",
       "      <td>2000</td>\n",
       "      <td>1000</td>\n",
       "      <td>5000</td>\n",
       "      <td>0.422618</td>\n",
       "      <td>0.0</td>\n",
       "      <td>0.906308</td>\n",
       "      <td>S3</td>\n",
       "      <td>NaN</td>\n",
       "      <td>NaN</td>\n",
       "    </tr>\n",
       "    <tr>\n",
       "      <th>18</th>\n",
       "      <td>4000</td>\n",
       "      <td>1000</td>\n",
       "      <td>5000</td>\n",
       "      <td>0.258819</td>\n",
       "      <td>0.0</td>\n",
       "      <td>0.965926</td>\n",
       "      <td>S3</td>\n",
       "      <td>NaN</td>\n",
       "      <td>NaN</td>\n",
       "    </tr>\n",
       "    <tr>\n",
       "      <th>19</th>\n",
       "      <td>6000</td>\n",
       "      <td>1000</td>\n",
       "      <td>5000</td>\n",
       "      <td>0.000000</td>\n",
       "      <td>0.0</td>\n",
       "      <td>1.000000</td>\n",
       "      <td>S3</td>\n",
       "      <td>NaN</td>\n",
       "      <td>NaN</td>\n",
       "    </tr>\n",
       "    <tr>\n",
       "      <th>20</th>\n",
       "      <td>8000</td>\n",
       "      <td>1000</td>\n",
       "      <td>5000</td>\n",
       "      <td>-0.258819</td>\n",
       "      <td>0.0</td>\n",
       "      <td>0.965926</td>\n",
       "      <td>S3</td>\n",
       "      <td>NaN</td>\n",
       "      <td>NaN</td>\n",
       "    </tr>\n",
       "    <tr>\n",
       "      <th>21</th>\n",
       "      <td>9000</td>\n",
       "      <td>1000</td>\n",
       "      <td>5000</td>\n",
       "      <td>-0.422618</td>\n",
       "      <td>0.0</td>\n",
       "      <td>0.906308</td>\n",
       "      <td>S3</td>\n",
       "      <td>NaN</td>\n",
       "      <td>NaN</td>\n",
       "    </tr>\n",
       "    <tr>\n",
       "      <th>22</th>\n",
       "      <td>10000</td>\n",
       "      <td>1000</td>\n",
       "      <td>5000</td>\n",
       "      <td>-0.258819</td>\n",
       "      <td>0.0</td>\n",
       "      <td>0.965926</td>\n",
       "      <td>S3</td>\n",
       "      <td>NaN</td>\n",
       "      <td>NaN</td>\n",
       "    </tr>\n",
       "    <tr>\n",
       "      <th>23</th>\n",
       "      <td>12000</td>\n",
       "      <td>1000</td>\n",
       "      <td>5000</td>\n",
       "      <td>0.000000</td>\n",
       "      <td>0.0</td>\n",
       "      <td>1.000000</td>\n",
       "      <td>S3</td>\n",
       "      <td>NaN</td>\n",
       "      <td>NaN</td>\n",
       "    </tr>\n",
       "    <tr>\n",
       "      <th>24</th>\n",
       "      <td>5000</td>\n",
       "      <td>1000</td>\n",
       "      <td>6000</td>\n",
       "      <td>NaN</td>\n",
       "      <td>NaN</td>\n",
       "      <td>NaN</td>\n",
       "      <td>S3</td>\n",
       "      <td>1.0</td>\n",
       "      <td>NaN</td>\n",
       "    </tr>\n",
       "    <tr>\n",
       "      <th>25</th>\n",
       "      <td>1000</td>\n",
       "      <td>1000</td>\n",
       "      <td>5000</td>\n",
       "      <td>0.999848</td>\n",
       "      <td>0.0</td>\n",
       "      <td>0.017452</td>\n",
       "      <td>S4</td>\n",
       "      <td>NaN</td>\n",
       "      <td>NaN</td>\n",
       "    </tr>\n",
       "    <tr>\n",
       "      <th>26</th>\n",
       "      <td>9000</td>\n",
       "      <td>1000</td>\n",
       "      <td>5000</td>\n",
       "      <td>0.999848</td>\n",
       "      <td>0.0</td>\n",
       "      <td>0.017452</td>\n",
       "      <td>S4</td>\n",
       "      <td>NaN</td>\n",
       "      <td>NaN</td>\n",
       "    </tr>\n",
       "    <tr>\n",
       "      <th>27</th>\n",
       "      <td>5000</td>\n",
       "      <td>1000</td>\n",
       "      <td>5000</td>\n",
       "      <td>NaN</td>\n",
       "      <td>NaN</td>\n",
       "      <td>NaN</td>\n",
       "      <td>S4</td>\n",
       "      <td>1.0</td>\n",
       "      <td>NaN</td>\n",
       "    </tr>\n",
       "  </tbody>\n",
       "</table>\n",
       "</div>"
      ],
      "text/plain": [
       "        X     Y      Z        nx   ny        nz feature_name  val Unnamed: 8\n",
       "0    4300  1000   7500 -0.342020  0.0 -0.939693           S0  NaN        NaN\n",
       "1    5200  1000   6800 -1.000000  0.0  0.000000           S0  NaN        NaN\n",
       "2    4000  1000   5600 -0.707107  0.0  0.707107           S0  NaN        NaN\n",
       "3    4000  1000   4000 -0.707107  0.0 -0.707107           S0  NaN        NaN\n",
       "4    6000  1000   4100  0.707107  0.0 -0.707107           S0  NaN        NaN\n",
       "5    6750  1000   5800  0.819152  0.0 -0.573576           S0  NaN        NaN\n",
       "6    8000  1000   7200  0.906308  0.0  0.422618           S0  NaN        NaN\n",
       "7    7100  1000   7200  0.173648  0.0  0.984808           S0  NaN        NaN\n",
       "8    1200  1000  11600  0.000000  0.0  1.000000           S2  1.0          `\n",
       "9    4800  1000   8250  0.422618  0.0  0.906308           S2  NaN        NaN\n",
       "10   6500  1000   6600  0.984808  0.0  0.173648           S2  NaN        NaN\n",
       "11   5000  1000   5500  0.258819  0.0 -0.965926           S2  NaN        NaN\n",
       "12   6200  1000   6000  0.707107  0.0 -0.707107           S2  NaN        NaN\n",
       "13   3250  1000   3500  1.000000  0.0  0.000000           S2  NaN        NaN\n",
       "14   6900  1000    800  0.000000  0.0  1.000000           S2  NaN        NaN\n",
       "15      0  1000   5000 -0.258819  0.0  0.965926           S3  NaN        NaN\n",
       "16   1000  1000   5000  0.000000  0.0  1.000000           S3  NaN        NaN\n",
       "17   2000  1000   5000  0.422618  0.0  0.906308           S3  NaN        NaN\n",
       "18   4000  1000   5000  0.258819  0.0  0.965926           S3  NaN        NaN\n",
       "19   6000  1000   5000  0.000000  0.0  1.000000           S3  NaN        NaN\n",
       "20   8000  1000   5000 -0.258819  0.0  0.965926           S3  NaN        NaN\n",
       "21   9000  1000   5000 -0.422618  0.0  0.906308           S3  NaN        NaN\n",
       "22  10000  1000   5000 -0.258819  0.0  0.965926           S3  NaN        NaN\n",
       "23  12000  1000   5000  0.000000  0.0  1.000000           S3  NaN        NaN\n",
       "24   5000  1000   6000       NaN  NaN       NaN           S3  1.0        NaN\n",
       "25   1000  1000   5000  0.999848  0.0  0.017452           S4  NaN        NaN\n",
       "26   9000  1000   5000  0.999848  0.0  0.017452           S4  NaN        NaN\n",
       "27   5000  1000   5000       NaN  NaN       NaN           S4  1.0        NaN"
      ]
     },
     "execution_count": 2,
     "metadata": {},
     "output_type": "execute_result"
    }
   ],
   "source": [
    "data = pd.read_csv('./Bermagui_Data/Bermagui_data_vectors_v2.csv')\n",
    "data"
   ]
  },
  {
   "cell_type": "markdown",
   "metadata": {
    "id": "DXHf6sJnf6nO"
   },
   "source": [
    "# Modelling S4\n"
   ]
  },
  {
   "cell_type": "markdown",
   "metadata": {
    "id": "KvcoN_w2v7Kj"
   },
   "source": [
    "1. Create a geological model using the bounding box\n",
    "2. Associate the data to the model\n",
    "3. Add the fold frame associated to upright S4 to the model \n",
    "4. Create an interactive view of the model S4 scalar field+data+isosurfaces\n",
    "Note - due to a new visualisation package (pyVista), the data are not visible. This will be fixed with LoopStructural updates"
   ]
  },
  {
   "cell_type": "code",
   "execution_count": 3,
   "metadata": {
    "colab": {
     "base_uri": "https://localhost:8080/",
     "height": 568
    },
    "id": "bmpJzoruv7Kk",
    "outputId": "3d039270-ce38-4ace-cf86-1ce5ee80ecc6"
   },
   "outputs": [
    {
     "name": "stderr",
     "output_type": "stream",
     "text": [
      "WARNING: 2025-03-27 11:39:31,890: geological_model.py:608 -- deprecated method. Model data can now be set using the data attribute\n"
     ]
    }
   ],
   "source": [
    "model = GeologicalModel(bb[0,:],bb[1,:])\n",
    "model.set_model_data(data)\n",
    "S4 = model.create_and_add_fold_frame('S4',\n",
    "                                     nelements=1e4, \n",
    "                                     buffer=0.5,\n",
    "                                     solver='cg',\n",
    "                                     damp=True)"
   ]
  },
  {
   "cell_type": "code",
   "execution_count": 4,
   "metadata": {},
   "outputs": [
    {
     "data": {
      "application/vnd.jupyter.widget-view+json": {
       "model_id": "e2853d920e914d3dac96f0b0692a33e6",
       "version_major": 2,
       "version_minor": 0
      },
      "text/plain": [
       "Widget(value='<iframe src=\"http://localhost:55509/index.html?ui=P_0x187e6c85520_0&reconnect=auto\" class=\"pyvis…"
      ]
     },
     "metadata": {},
     "output_type": "display_data"
    }
   ],
   "source": [
    "view4 = Loop3DView(model)#, shape = (1,2))\n",
    "view4.plot_data(S4[0], name = \"S4_data\", scale = 1000)\n",
    "view4.remove_scalar_bar(\"values\")\n",
    "view4.remove_scalar_bar(\"GlyphScale\")\n",
    "view4.plot_surface(model[\"S4\"][0], name = \"S4\", value =11, paint_with= model[\"S4\"][0], scalar_bar = True )\n",
    "#view.subplot(0,1)\n",
    "# view.plot_data(S5[0], scale = 1000)\n",
    "view4.remove_scalar_bar(\"values\")\n",
    "view4.screenshot(\"./test.jpg\")\n",
    "view4.show()"
   ]
  },
  {
   "cell_type": "markdown",
   "metadata": {
    "id": "hmfgjf9rv7Km"
   },
   "source": [
    "# Modelling S3\n"
   ]
  },
  {
   "cell_type": "markdown",
   "metadata": {
    "id": "KvcoN_w2v7Kj"
   },
   "source": [
    "1. Add the fold frame associated to recumbent S3 to the model using F4 scalar fields \n",
    "2. Add S3 to visualisation - \n",
    "Note: due to a new visualisation package (pyVista), the data are not visible. This will be fixed with LoopStructural updates"
   ]
  },
  {
   "cell_type": "code",
   "execution_count": 5,
   "metadata": {
    "colab": {
     "base_uri": "https://localhost:8080/",
     "height": 678,
     "referenced_widgets": [
      "506f22d1c8b94a7ba99092ccae7038d4",
      "9231b45ba5c24ba2b2e8888cffe981c2",
      "b5bf4d76b3a84cf1abc88c23c7f7c935",
      "b752a699ce964ee7a234eab9578a3fc8",
      "a7b51a9a747f48c2b98dfac20b7fff26",
      "b4d0f731ae0145f8bd92a69024ba80a8",
      "84bf0d69e71a4373934c3c9922084047",
      "9343eea5e33a44f5a7c005923abd69f1",
      "a53dd773658c4777ab164003196b9bdf",
      "a43855635cbe4474b9bfc448a02c0e96",
      "4a5886b1395044ceb8e027d05a35e312"
     ]
    },
    "id": "AuBBUdDGv7Km",
    "outputId": "bfa58a76-1e26-45e2-f5a7-092c853bff21"
   },
   "outputs": [],
   "source": [
    "S3 = model.create_and_add_folded_fold_frame('S3',\n",
    "                                            limb_wl= 16000, \n",
    "                                            fold_frame=S4,\n",
    "                                            av_fold_axis=True,\n",
    "                                            nelements=1e4,\n",
    "                                            buffer=0.3,\n",
    "                                            lag=0.05, #svriogram lag\n",
    "                                            solver='cg',\n",
    "                                            limb_profile_type=FoldRotationType.FOURIER_SERIES,  #default\n",
    "                                            )\n"
   ]
  },
  {
   "cell_type": "code",
   "execution_count": 6,
   "metadata": {},
   "outputs": [
    {
     "name": "stdout",
     "output_type": "stream",
     "text": [
      "fold axis  [ 9.19962584e-08 -1.00000000e+00  3.40876901e-08]\n"
     ]
    },
    {
     "data": {
      "text/plain": [
       "<Axes: >"
      ]
     },
     "execution_count": 6,
     "metadata": {},
     "output_type": "execute_result"
    },
    {
     "data": {
      "image/png": "[encoded data removed]",
      "text/plain": [
       "<Figure size 640x480 with 1 Axes>"
      ]
     },
     "metadata": {},
     "output_type": "display_data"
    }
   ],
   "source": [
    "S3[0].builder.set_fold_axis()  # initialise the fold axis to calculate the rotation angle\n",
    "S3.fold.fold_axis\n",
    "S3[0].builder.set_fold_limb_rotation()  # calculate the rotation angle\n",
    "profile = S3.fold.fold_limb_rotation\n",
    "print('fold axis ', S3.fold.fold_axis)\n",
    "profile.plot()"
   ]
  },
  {
   "cell_type": "code",
   "execution_count": 7,
   "metadata": {},
   "outputs": [],
   "source": [
    "#uncomment below to edit the profile values - this will obviously change the model\n",
    "\n",
    "# from ipywidgets import interact\n",
    "\n",
    "# @interact(c0=(-90, 90, 0.01), c1=(-90, 90, 0.01), c2=(-90, 90, 0.01), w=(0, 50000, 0.01))\n",
    "# def fn(c0=profile.c0, c1=profile.c1, c2=profile.c2, w=profile.w):\n",
    "#     profile.c0 = c0\n",
    "#     profile.c1 = c1\n",
    "#     profile.c2 = c2\n",
    "#     profile.w = w\n",
    "#     profile.plot()"
   ]
  },
  {
   "cell_type": "code",
   "execution_count": 8,
   "metadata": {
    "colab": {
     "base_uri": "https://localhost:8080/",
     "height": 887
    },
    "id": "3_6xLW2AfFjA",
    "outputId": "42714926-4c54-4e51-924e-3b574be19c66"
   },
   "outputs": [
    {
     "data": {
      "application/vnd.jupyter.widget-view+json": {
       "model_id": "a3c75b6d07a34b92bc3a9e11b5e303fb",
       "version_major": 2,
       "version_minor": 0
      },
      "text/plain": [
       "Widget(value='<iframe src=\"http://localhost:55509/index.html?ui=P_0x187f4844110_1&reconnect=auto\" class=\"pyvis…"
      ]
     },
     "metadata": {},
     "output_type": "display_data"
    }
   ],
   "source": [
    "view3 = Loop3DView(model)#, shape = (1,2))\n",
    "view3.plot_surface(model[\"S4\"][0], name = \"S4\", value =11, paint_with= model[\"S4\"][0], scalar_bar = True )\n",
    "view3.plot_surface(model[\"S3\"][0], name = \"S3\", value =11, paint_with= model[\"S3\"][0], scalar_bar = True )\n",
    "view3.plot_data(S4[0], name = \"S3_data\" ,scale = 1000)\n",
    "view3.remove_scalar_bar(\"GlyphScale\")\n",
    "view3.remove_scalar_bar(\"values\")\n",
    "view3.show()"
   ]
  },
  {
   "cell_type": "markdown",
   "metadata": {
    "id": "uO8RtpT8v7Kn",
    "tags": []
   },
   "source": [
    "# Modelling S2\n",
    "\n",
    "\n"
   ]
  },
  {
   "cell_type": "code",
   "execution_count": 9,
   "metadata": {
    "colab": {
     "base_uri": "https://localhost:8080/",
     "height": 608,
     "referenced_widgets": [
      "f013205a1aed421e9ff54cf2a3252a54",
      "8d119ea6fed348ce832b618895ce32be",
      "68977e771dc146b6bcd973f84b59d898",
      "1fb75eb046ae4f3d915fd8daf0a5eab1",
      "32fe2aed47eb444a95707ec8533228f7",
      "75e8eea3d91f4f0f811fb71dd741c928",
      "8fcbe12f10684dda8397e2caecbc3714",
      "cc098df646ae4edc93f54ee86cecc622",
      "89c87c0956d84a929fa58f69e108665c",
      "b3bd3a696f174232bfaa77bb6ede61e1",
      "655a283433b54f71b6a49db0a80c6261"
     ]
    },
    "id": "RCGXbKLBv7Ko",
    "outputId": "379527ca-c2e8-463f-a88d-9c3164120d70"
   },
   "outputs": [],
   "source": [
    "fold_weights = {'fold_orientation':1.0, 'fold_axis_w':1.0, 'fold_regularisation':[0.1, 0.01, 0.01], 'fold_normalisation':0.25, 'fold_norm':2.5, 'step':2}\n",
    "#ALL about the folded foliation // fold_orientation & fold_axis = // to folded foliation / ortho constraints;  fold_regularisation = //to fold frame;  fold_normalisation = weighting of the norm constraint in the axial surface direction/\n",
    "# norm of scalar field =    // step = how many elements\n",
    "\n",
    "S2 = model.create_and_add_folded_fold_frame('S2',\n",
    "                                            limb_wl= 6000, #5000\n",
    "                                            fold_frame=S3,\n",
    "                                            fold_weights = fold_weights,\n",
    "                                            #av_fold_axis=True,\n",
    "                                            fold_axis=[0.,1.,0.],\n",
    "                                            nelements=1e5,\n",
    "                                            buffer=0.2,\n",
    "                                            lag=0.05, #svriogram lag\n",
    "                                            solver='cg'\n",
    "                                           )"
   ]
  },
  {
   "cell_type": "code",
   "execution_count": 10,
   "metadata": {},
   "outputs": [
    {
     "name": "stderr",
     "output_type": "stream",
     "text": [
      "WARNING: 2025-03-27 11:44:59,308: _svariogram.py:213 -- Could not automatically guess the wavelength, using 2x the range of the data\n"
     ]
    },
    {
     "data": {
      "text/plain": [
       "<Axes: >"
      ]
     },
     "execution_count": 10,
     "metadata": {},
     "output_type": "execute_result"
    },
    {
     "data": {
      "image/png": "[encoded data removed]",
      "text/plain": [
       "<Figure size 640x480 with 1 Axes>"
      ]
     },
     "metadata": {},
     "output_type": "display_data"
    }
   ],
   "source": [
    "S2[0].builder.set_fold_axis()  # initialise the fold axis to calculate the rotation angle\n",
    "S2[0].builder.set_fold_limb_rotation()  # calculate the rotation angle\n",
    "profile = S2.fold.fold_limb_rotation\n",
    "profile.plot()"
   ]
  },
  {
   "cell_type": "code",
   "execution_count": 11,
   "metadata": {},
   "outputs": [],
   "source": [
    "#uncomment below to edit the profile values - this will obviously change the model\n",
    "\n",
    "# from ipywidgets import interact\n",
    "\n",
    "# @interact(c0=(-90, 90, 0.01), c1=(-90, 90, 0.01), c2=(-90, 90, 0.01), w=(0, 50000, 0.01))\n",
    "# def fn(c0=profile.c0, c1=profile.c1, c2=profile.c2, w=profile.w):\n",
    "#     profile.c0 = c0\n",
    "#     profile.c1 = c1\n",
    "#     profile.c2 = c2\n",
    "#     profile.w = w\n",
    "#     profile.plot()\n",
    "#     # s1[0].scalar_field().vtk().contour(5).plot()"
   ]
  },
  {
   "cell_type": "markdown",
   "metadata": {},
   "source": [
    "### Unfortunately, although the fit of the Fourier series is quite good, the synthetic data used are not capturing the right geometry for the recumbently folded S2 - the wavelength has to be larger to allow for the isoclinal folds of S0/S1 to be modelled. Below we increase the wavelength to an appropriate value, completely arbitrarily. "
   ]
  },
  {
   "cell_type": "code",
   "execution_count": 12,
   "metadata": {},
   "outputs": [
    {
     "data": {
      "text/plain": [
       "<Axes: >"
      ]
     },
     "execution_count": 12,
     "metadata": {},
     "output_type": "execute_result"
    },
    {
     "data": {
      "image/png": "[encoded data removed]",
      "text/plain": [
       "<Figure size 640x480 with 1 Axes>"
      ]
     },
     "metadata": {},
     "output_type": "display_data"
    }
   ],
   "source": [
    "profile.w = 16221.59\n",
    "profile.plot()"
   ]
  },
  {
   "cell_type": "code",
   "execution_count": 13,
   "metadata": {
    "colab": {
     "base_uri": "https://localhost:8080/",
     "height": 801
    },
    "id": "4Rmb8Wunv7Kp",
    "outputId": "2af443cb-305c-415e-c236-746686d8c8d7",
    "tags": []
   },
   "outputs": [
    {
     "data": {
      "application/vnd.jupyter.widget-view+json": {
       "model_id": "8c6dcc558f06431f8bc48816b1e747dd",
       "version_major": 2,
       "version_minor": 0
      },
      "text/plain": [
       "Widget(value='<iframe src=\"http://localhost:55509/index.html?ui=P_0x1878c962510_2&reconnect=auto\" class=\"pyvis…"
      ]
     },
     "metadata": {},
     "output_type": "display_data"
    }
   ],
   "source": [
    "view2 = Loop3DView(model)#, shape = (1,2))\n",
    "view2.clear()\n",
    "view2.plot_surface(model[\"S4\"][0], name = \"S4\", value =11, colour = \"blue\" )\n",
    "view2.plot_surface(model[\"S3\"][0], name = \"S3\", value =11, colour = \"yellow\" )\n",
    "view2.plot_surface(model[\"S2\"][0], name = \"S2\", value =11, colour = \"red\" )\n",
    "view2.plot_data(S2[0], name = \"S2_data\", scale = 1000)\n",
    "\n",
    "view2.remove_scalar_bar(\"GlyphScale\")\n",
    "\n",
    "view2.show()"
   ]
  },
  {
   "cell_type": "markdown",
   "metadata": {
    "id": "uO8RtpT8v7Kn"
   },
   "source": [
    "# Modelling S1 // S0\n",
    "\n",
    "\n"
   ]
  },
  {
   "cell_type": "markdown",
   "metadata": {
    "id": "KvcoN_w2v7Kj"
   },
   "source": [
    "1. Add the fold frame associated to S0/S1 using F2 scalar fields \n",
    "2. Add all foliation to the model visualisation - \n",
    "Note: due to a new visualisation package (pyVista), the data are not visible. This will be fixed with LoopStructural updates"
   ]
  },
  {
   "cell_type": "code",
   "execution_count": 14,
   "metadata": {
    "colab": {
     "base_uri": "https://localhost:8080/",
     "height": 380
    },
    "id": "mudeY74L16GF",
    "outputId": "0283c3a5-1562-45c4-98b4-f9de0d042829"
   },
   "outputs": [],
   "source": [
    "model.data = pd.read_csv('./Bermagui_Data/Bermagui_data_vectors_S2.csv')\n",
    "fold_weights = {'fold_orientation':10.0, 'fold_axis_w':10.0, 'fold_regularisation':[0.1, 0.01, 0.01], 'fold_normalisation':1.0, 'fold_norm':2.5, 'step':2}\n",
    "S0 = model.create_and_add_folded_fold_frame('S0',\n",
    "                                            # limb_wl= 1800,\n",
    "                                            fold_frame=S2,\n",
    "                                            #fold_weights = fold_weights,\n",
    "                                            #av_fold_axis=True,\n",
    "                                            fold_axis=[0.,1.,0.],\n",
    "                                            nelements=5e5,\n",
    "                                            #buffer=0.0,\n",
    "                                            #lag=0.05, #svriogram lag\n",
    "                                            solver='cg',\n",
    "                                            limb_profile_type=FoldRotationType.TRIGONOMETRIC,\n",
    "                                           )"
   ]
  },
  {
   "cell_type": "code",
   "execution_count": 15,
   "metadata": {},
   "outputs": [
    {
     "name": "stderr",
     "output_type": "stream",
     "text": [
      "WARNING: 2025-03-27 11:47:27,423: _svariogram.py:213 -- Could not automatically guess the wavelength, using 2x the range of the data\n"
     ]
    },
    {
     "data": {
      "text/plain": [
       "<Axes: >"
      ]
     },
     "execution_count": 15,
     "metadata": {},
     "output_type": "execute_result"
    },
    {
     "data": {
      "image/png": "[encoded data removed]",
      "text/plain": [
       "<Figure size 640x480 with 1 Axes>"
      ]
     },
     "metadata": {},
     "output_type": "display_data"
    }
   ],
   "source": [
    "S0[0].builder.set_fold_axis()  # initialise the fold axis to calculate the rotation angle\n",
    "S0[0].builder.set_fold_limb_rotation()  # calculate the rotation angle\n",
    "profile = S0.fold.fold_limb_rotation\n",
    "profile.plot()"
   ]
  },
  {
   "cell_type": "code",
   "execution_count": 16,
   "metadata": {},
   "outputs": [],
   "source": [
    "#Uncomment below for interactive fold profile modelling - the appropriate values are in the following cell, which will override the interactive settings if run\n",
    "\n",
    "# from ipywidgets import interact\n",
    "\n",
    "# profile = S0.fold.fold_limb_rotation\n",
    "# profile.origin = 0\n",
    "# profile.wavelength = 5000\n",
    "# profile.inflectionpointangle = 0.2\n",
    "\n",
    "\n",
    "# @interact(\n",
    "#     origin=(-5000, 5000, 1),\n",
    "#     wavelength=(0, 5000, 1),\n",
    "#     inflectionpointangle=(np.deg2rad(0), np.deg2rad(90), 0.01),\n",
    "# )\n",
    "# def fn(\n",
    "#     origin=profile.origin,\n",
    "#     wl=profile.wavelength,\n",
    "#     inflectionpointangle=profile.inflectionpointangle,\n",
    "# ):\n",
    "#     profile.origin = origin\n",
    "#     profile.wavelength = wl\n",
    "#     profile.inflectionpointangle = inflectionpointangle\n",
    "\n",
    "#     profile.plot()"
   ]
  },
  {
   "cell_type": "code",
   "execution_count": 17,
   "metadata": {},
   "outputs": [
    {
     "data": {
      "text/plain": [
       "<Axes: >"
      ]
     },
     "execution_count": 17,
     "metadata": {},
     "output_type": "execute_result"
    },
    {
     "data": {
      "image/png": "[encoded data removed]",
      "text/plain": [
       "<Figure size 640x480 with 1 Axes>"
      ]
     },
     "metadata": {},
     "output_type": "display_data"
    }
   ],
   "source": [
    "profile.origin =0\n",
    "profile.wavelength = 2098\n",
    "profile.inflectionpointangle = 1.42 \n",
    "profile.plot()"
   ]
  },
  {
   "cell_type": "code",
   "execution_count": 19,
   "metadata": {},
   "outputs": [
    {
     "name": "stderr",
     "output_type": "stream",
     "text": [
      "WARNING: 2025-03-27 11:56:14,797: geological_model.py:1541 -- No stratigraphic column defined\n",
      "WARNING: 2025-03-27 11:56:14,797: geological_model.py:1761 -- No stratigraphic column defined\n"
     ]
    },
    {
     "data": {
      "application/vnd.jupyter.widget-view+json": {
       "model_id": "6472379a3c574b239c695b8a56291362",
       "version_major": 2,
       "version_minor": 0
      },
      "text/plain": [
       "Widget(value='<iframe src=\"http://localhost:55509/index.html?ui=P_0x187a2633260_4&reconnect=auto\" class=\"pyvis…"
      ]
     },
     "metadata": {},
     "output_type": "display_data"
    }
   ],
   "source": [
    "view0 = Loop3DView(model)\n",
    "view0.clear()\n",
    "view0.plot_surface(model[\"S4\"][0], name = \"S4\", value =7,  colour = 'blue' )\n",
    "view0.plot_surface(model[\"S3\"][0], name = \"S3\", value =7,  colour = \"yellow\" )\n",
    "view0.plot_surface(model[\"S2\"][0], name = \"S2\", value =11,  colour = 'red')\n",
    "view0.plot_surface(model[\"S0\"][0], name = \"S0\", value =11, colour = 'green' )\n",
    "view0.show()"
   ]
  },
  {
   "cell_type": "markdown",
   "metadata": {},
   "source": [
    "### Save the model into a geohy format ( run:   !pip install geoh5py in a separate cell if library is missing)  This allows to visualise the model in Geoscience Analyst"
   ]
  },
  {
   "cell_type": "code",
   "execution_count": 21,
   "metadata": {},
   "outputs": [
    {
     "name": "stderr",
     "output_type": "stream",
     "text": [
      "C:\\Users\\laure\\.conda\\envs\\loop\\Lib\\site-packages\\geoh5py\\workspace\\workspace.py:1089: UserWarning: From version 0.8.0, the 'h5file' attribute must be a string or path to an existing file, or user must call the 'create' method. We will attempt to `save` the file for you, but this behaviour will be removed in future releases.\n",
      "  warnings.warn(\n"
     ]
    }
   ],
   "source": [
    "for s4 in (model[\"S4\"][0].surfaces(7)) :\n",
    "    s4.save('./Bermagui.geoh5')\n",
    "for s3 in (model[\"S3\"][0].surfaces(25)) :\n",
    "    s3.save('./Bermagui.geoh5')\n",
    "for s2 in (model[\"S2\"][0].surfaces(65)) :\n",
    "    s2.save('./Bermagui.geoh5')\n",
    "for s0 in (model[\"S0\"][0].surfaces(11)) :\n",
    "    s0.save('./Bermagui.geoh5')"
   ]
  }
 ],
 "metadata": {
  "colab": {
   "collapsed_sections": [],
   "provenance": []
  },
  "kernelspec": {
   "display_name": "Python 3 (ipykernel)",
   "language": "python",
   "name": "python3"
  },
  "language_info": {
   "codemirror_mode": {
    "name": "ipython",
    "version": 3
   },
   "file_extension": ".py",
   "mimetype": "text/x-python",
   "name": "python",
   "nbconvert_exporter": "python",
   "pygments_lexer": "ipython3",
   "version": "3.12.0"
  },
  "widgets": {
   "application/vnd.jupyter.widget-state+json": {
    "1fb75eb046ae4f3d915fd8daf0a5eab1": {
     "model_module": "@jupyter-widgets/controls",
     "model_module_version": "1.5.0",
     "model_name": "HTMLModel",
     "state": {
      "_dom_classes": [],
      "_model_module": "@jupyter-widgets/controls",
      "_model_module_version": "1.5.0",
      "_model_name": "HTMLModel",
      "_view_count": null,
      "_view_module": "@jupyter-widgets/controls",
      "_view_module_version": "1.5.0",
      "_view_name": "HTMLView",
      "description": "",
      "description_tooltip": null,
      "layout": "IPY_MODEL_b3bd3a696f174232bfaa77bb6ede61e1",
      "placeholder": "​",
      "style": "IPY_MODEL_655a283433b54f71b6a49db0a80c6261",
      "value": " 9/9 [00:08&lt;00:00,  1.03it/s]"
     }
    },
    "32fe2aed47eb444a95707ec8533228f7": {
     "model_module": "@jupyter-widgets/base",
     "model_module_version": "1.2.0",
     "model_name": "LayoutModel",
     "state": {
      "_model_module": "@jupyter-widgets/base",
      "_model_module_version": "1.2.0",
      "_model_name": "LayoutModel",
      "_view_count": null,
      "_view_module": "@jupyter-widgets/base",
      "_view_module_version": "1.2.0",
      "_view_name": "LayoutView",
      "align_content": null,
      "align_items": null,
      "align_self": null,
      "border": null,
      "bottom": null,
      "display": null,
      "flex": null,
      "flex_flow": null,
      "grid_area": null,
      "grid_auto_columns": null,
      "grid_auto_flow": null,
      "grid_auto_rows": null,
      "grid_column": null,
      "grid_gap": null,
      "grid_row": null,
      "grid_template_areas": null,
      "grid_template_columns": null,
      "grid_template_rows": null,
      "height": null,
      "justify_content": null,
      "justify_items": null,
      "left": null,
      "margin": null,
      "max_height": null,
      "max_width": null,
      "min_height": null,
      "min_width": null,
      "object_fit": null,
      "object_position": null,
      "order": null,
      "overflow": null,
      "overflow_x": null,
      "overflow_y": null,
      "padding": null,
      "right": null,
      "top": null,
      "visibility": null,
      "width": null
     }
    },
    "4a5886b1395044ceb8e027d05a35e312": {
     "model_module": "@jupyter-widgets/controls",
     "model_module_version": "1.5.0",
     "model_name": "DescriptionStyleModel",
     "state": {
      "_model_module": "@jupyter-widgets/controls",
      "_model_module_version": "1.5.0",
      "_model_name": "DescriptionStyleModel",
      "_view_count": null,
      "_view_module": "@jupyter-widgets/base",
      "_view_module_version": "1.2.0",
      "_view_name": "StyleView",
      "description_width": ""
     }
    },
    "506f22d1c8b94a7ba99092ccae7038d4": {
     "model_module": "@jupyter-widgets/controls",
     "model_module_version": "1.5.0",
     "model_name": "HBoxModel",
     "state": {
      "_dom_classes": [],
      "_model_module": "@jupyter-widgets/controls",
      "_model_module_version": "1.5.0",
      "_model_name": "HBoxModel",
      "_view_count": null,
      "_view_module": "@jupyter-widgets/controls",
      "_view_module_version": "1.5.0",
      "_view_name": "HBoxView",
      "box_style": "",
      "children": [
       "IPY_MODEL_9231b45ba5c24ba2b2e8888cffe981c2",
       "IPY_MODEL_b5bf4d76b3a84cf1abc88c23c7f7c935",
       "IPY_MODEL_b752a699ce964ee7a234eab9578a3fc8"
      ],
      "layout": "IPY_MODEL_a7b51a9a747f48c2b98dfac20b7fff26"
     }
    },
    "655a283433b54f71b6a49db0a80c6261": {
     "model_module": "@jupyter-widgets/controls",
     "model_module_version": "1.5.0",
     "model_name": "DescriptionStyleModel",
     "state": {
      "_model_module": "@jupyter-widgets/controls",
      "_model_module_version": "1.5.0",
      "_model_name": "DescriptionStyleModel",
      "_view_count": null,
      "_view_module": "@jupyter-widgets/base",
      "_view_module_version": "1.2.0",
      "_view_name": "StyleView",
      "description_width": ""
     }
    },
    "68977e771dc146b6bcd973f84b59d898": {
     "model_module": "@jupyter-widgets/controls",
     "model_module_version": "1.5.0",
     "model_name": "FloatProgressModel",
     "state": {
      "_dom_classes": [],
      "_model_module": "@jupyter-widgets/controls",
      "_model_module_version": "1.5.0",
      "_model_name": "FloatProgressModel",
      "_view_count": null,
      "_view_module": "@jupyter-widgets/controls",
      "_view_module_version": "1.5.0",
      "_view_name": "ProgressView",
      "bar_style": "success",
      "description": "",
      "description_tooltip": null,
      "layout": "IPY_MODEL_cc098df646ae4edc93f54ee86cecc622",
      "max": 9,
      "min": 0,
      "orientation": "horizontal",
      "style": "IPY_MODEL_89c87c0956d84a929fa58f69e108665c",
      "value": 9
     }
    },
    "75e8eea3d91f4f0f811fb71dd741c928": {
     "model_module": "@jupyter-widgets/base",
     "model_module_version": "1.2.0",
     "model_name": "LayoutModel",
     "state": {
      "_model_module": "@jupyter-widgets/base",
      "_model_module_version": "1.2.0",
      "_model_name": "LayoutModel",
      "_view_count": null,
      "_view_module": "@jupyter-widgets/base",
      "_view_module_version": "1.2.0",
      "_view_name": "LayoutView",
      "align_content": null,
      "align_items": null,
      "align_self": null,
      "border": null,
      "bottom": null,
      "display": null,
      "flex": null,
      "flex_flow": null,
      "grid_area": null,
      "grid_auto_columns": null,
      "grid_auto_flow": null,
      "grid_auto_rows": null,
      "grid_column": null,
      "grid_gap": null,
      "grid_row": null,
      "grid_template_areas": null,
      "grid_template_columns": null,
      "grid_template_rows": null,
      "height": null,
      "justify_content": null,
      "justify_items": null,
      "left": null,
      "margin": null,
      "max_height": null,
      "max_width": null,
      "min_height": null,
      "min_width": null,
      "object_fit": null,
      "object_position": null,
      "order": null,
      "overflow": null,
      "overflow_x": null,
      "overflow_y": null,
      "padding": null,
      "right": null,
      "top": null,
      "visibility": null,
      "width": null
     }
    },
    "84bf0d69e71a4373934c3c9922084047": {
     "model_module": "@jupyter-widgets/controls",
     "model_module_version": "1.5.0",
     "model_name": "DescriptionStyleModel",
     "state": {
      "_model_module": "@jupyter-widgets/controls",
      "_model_module_version": "1.5.0",
      "_model_name": "DescriptionStyleModel",
      "_view_count": null,
      "_view_module": "@jupyter-widgets/base",
      "_view_module_version": "1.2.0",
      "_view_name": "StyleView",
      "description_width": ""
     }
    },
    "89c87c0956d84a929fa58f69e108665c": {
     "model_module": "@jupyter-widgets/controls",
     "model_module_version": "1.5.0",
     "model_name": "ProgressStyleModel",
     "state": {
      "_model_module": "@jupyter-widgets/controls",
      "_model_module_version": "1.5.0",
      "_model_name": "ProgressStyleModel",
      "_view_count": null,
      "_view_module": "@jupyter-widgets/base",
      "_view_module_version": "1.2.0",
      "_view_name": "StyleView",
      "bar_color": null,
      "description_width": ""
     }
    },
    "8d119ea6fed348ce832b618895ce32be": {
     "model_module": "@jupyter-widgets/controls",
     "model_module_version": "1.5.0",
     "model_name": "HTMLModel",
     "state": {
      "_dom_classes": [],
      "_model_module": "@jupyter-widgets/controls",
      "_model_module_version": "1.5.0",
      "_model_name": "HTMLModel",
      "_view_count": null,
      "_view_module": "@jupyter-widgets/controls",
      "_view_module_version": "1.5.0",
      "_view_name": "HTMLView",
      "description": "",
      "description_tooltip": null,
      "layout": "IPY_MODEL_75e8eea3d91f4f0f811fb71dd741c928",
      "placeholder": "​",
      "style": "IPY_MODEL_8fcbe12f10684dda8397e2caecbc3714",
      "value": "Interpolating S3: 100%"
     }
    },
    "8fcbe12f10684dda8397e2caecbc3714": {
     "model_module": "@jupyter-widgets/controls",
     "model_module_version": "1.5.0",
     "model_name": "DescriptionStyleModel",
     "state": {
      "_model_module": "@jupyter-widgets/controls",
      "_model_module_version": "1.5.0",
      "_model_name": "DescriptionStyleModel",
      "_view_count": null,
      "_view_module": "@jupyter-widgets/base",
      "_view_module_version": "1.2.0",
      "_view_name": "StyleView",
      "description_width": ""
     }
    },
    "9231b45ba5c24ba2b2e8888cffe981c2": {
     "model_module": "@jupyter-widgets/controls",
     "model_module_version": "1.5.0",
     "model_name": "HTMLModel",
     "state": {
      "_dom_classes": [],
      "_model_module": "@jupyter-widgets/controls",
      "_model_module_version": "1.5.0",
      "_model_name": "HTMLModel",
      "_view_count": null,
      "_view_module": "@jupyter-widgets/controls",
      "_view_module_version": "1.5.0",
      "_view_name": "HTMLView",
      "description": "",
      "description_tooltip": null,
      "layout": "IPY_MODEL_b4d0f731ae0145f8bd92a69024ba80a8",
      "placeholder": "​",
      "style": "IPY_MODEL_84bf0d69e71a4373934c3c9922084047",
      "value": "Interpolating S4: 100%"
     }
    },
    "9343eea5e33a44f5a7c005923abd69f1": {
     "model_module": "@jupyter-widgets/base",
     "model_module_version": "1.2.0",
     "model_name": "LayoutModel",
     "state": {
      "_model_module": "@jupyter-widgets/base",
      "_model_module_version": "1.2.0",
      "_model_name": "LayoutModel",
      "_view_count": null,
      "_view_module": "@jupyter-widgets/base",
      "_view_module_version": "1.2.0",
      "_view_name": "LayoutView",
      "align_content": null,
      "align_items": null,
      "align_self": null,
      "border": null,
      "bottom": null,
      "display": null,
      "flex": null,
      "flex_flow": null,
      "grid_area": null,
      "grid_auto_columns": null,
      "grid_auto_flow": null,
      "grid_auto_rows": null,
      "grid_column": null,
      "grid_gap": null,
      "grid_row": null,
      "grid_template_areas": null,
      "grid_template_columns": null,
      "grid_template_rows": null,
      "height": null,
      "justify_content": null,
      "justify_items": null,
      "left": null,
      "margin": null,
      "max_height": null,
      "max_width": null,
      "min_height": null,
      "min_width": null,
      "object_fit": null,
      "object_position": null,
      "order": null,
      "overflow": null,
      "overflow_x": null,
      "overflow_y": null,
      "padding": null,
      "right": null,
      "top": null,
      "visibility": null,
      "width": null
     }
    },
    "a43855635cbe4474b9bfc448a02c0e96": {
     "model_module": "@jupyter-widgets/base",
     "model_module_version": "1.2.0",
     "model_name": "LayoutModel",
     "state": {
      "_model_module": "@jupyter-widgets/base",
      "_model_module_version": "1.2.0",
      "_model_name": "LayoutModel",
      "_view_count": null,
      "_view_module": "@jupyter-widgets/base",
      "_view_module_version": "1.2.0",
      "_view_name": "LayoutView",
      "align_content": null,
      "align_items": null,
      "align_self": null,
      "border": null,
      "bottom": null,
      "display": null,
      "flex": null,
      "flex_flow": null,
      "grid_area": null,
      "grid_auto_columns": null,
      "grid_auto_flow": null,
      "grid_auto_rows": null,
      "grid_column": null,
      "grid_gap": null,
      "grid_row": null,
      "grid_template_areas": null,
      "grid_template_columns": null,
      "grid_template_rows": null,
      "height": null,
      "justify_content": null,
      "justify_items": null,
      "left": null,
      "margin": null,
      "max_height": null,
      "max_width": null,
      "min_height": null,
      "min_width": null,
      "object_fit": null,
      "object_position": null,
      "order": null,
      "overflow": null,
      "overflow_x": null,
      "overflow_y": null,
      "padding": null,
      "right": null,
      "top": null,
      "visibility": null,
      "width": null
     }
    },
    "a53dd773658c4777ab164003196b9bdf": {
     "model_module": "@jupyter-widgets/controls",
     "model_module_version": "1.5.0",
     "model_name": "ProgressStyleModel",
     "state": {
      "_model_module": "@jupyter-widgets/controls",
      "_model_module_version": "1.5.0",
      "_model_name": "ProgressStyleModel",
      "_view_count": null,
      "_view_module": "@jupyter-widgets/base",
      "_view_module_version": "1.2.0",
      "_view_name": "StyleView",
      "bar_color": null,
      "description_width": ""
     }
    },
    "a7b51a9a747f48c2b98dfac20b7fff26": {
     "model_module": "@jupyter-widgets/base",
     "model_module_version": "1.2.0",
     "model_name": "LayoutModel",
     "state": {
      "_model_module": "@jupyter-widgets/base",
      "_model_module_version": "1.2.0",
      "_model_name": "LayoutModel",
      "_view_count": null,
      "_view_module": "@jupyter-widgets/base",
      "_view_module_version": "1.2.0",
      "_view_name": "LayoutView",
      "align_content": null,
      "align_items": null,
      "align_self": null,
      "border": null,
      "bottom": null,
      "display": null,
      "flex": null,
      "flex_flow": null,
      "grid_area": null,
      "grid_auto_columns": null,
      "grid_auto_flow": null,
      "grid_auto_rows": null,
      "grid_column": null,
      "grid_gap": null,
      "grid_row": null,
      "grid_template_areas": null,
      "grid_template_columns": null,
      "grid_template_rows": null,
      "height": null,
      "justify_content": null,
      "justify_items": null,
      "left": null,
      "margin": null,
      "max_height": null,
      "max_width": null,
      "min_height": null,
      "min_width": null,
      "object_fit": null,
      "object_position": null,
      "order": null,
      "overflow": null,
      "overflow_x": null,
      "overflow_y": null,
      "padding": null,
      "right": null,
      "top": null,
      "visibility": null,
      "width": null
     }
    },
    "b3bd3a696f174232bfaa77bb6ede61e1": {
     "model_module": "@jupyter-widgets/base",
     "model_module_version": "1.2.0",
     "model_name": "LayoutModel",
     "state": {
      "_model_module": "@jupyter-widgets/base",
      "_model_module_version": "1.2.0",
      "_model_name": "LayoutModel",
      "_view_count": null,
      "_view_module": "@jupyter-widgets/base",
      "_view_module_version": "1.2.0",
      "_view_name": "LayoutView",
      "align_content": null,
      "align_items": null,
      "align_self": null,
      "border": null,
      "bottom": null,
      "display": null,
      "flex": null,
      "flex_flow": null,
      "grid_area": null,
      "grid_auto_columns": null,
      "grid_auto_flow": null,
      "grid_auto_rows": null,
      "grid_column": null,
      "grid_gap": null,
      "grid_row": null,
      "grid_template_areas": null,
      "grid_template_columns": null,
      "grid_template_rows": null,
      "height": null,
      "justify_content": null,
      "justify_items": null,
      "left": null,
      "margin": null,
      "max_height": null,
      "max_width": null,
      "min_height": null,
      "min_width": null,
      "object_fit": null,
      "object_position": null,
      "order": null,
      "overflow": null,
      "overflow_x": null,
      "overflow_y": null,
      "padding": null,
      "right": null,
      "top": null,
      "visibility": null,
      "width": null
     }
    },
    "b4d0f731ae0145f8bd92a69024ba80a8": {
     "model_module": "@jupyter-widgets/base",
     "model_module_version": "1.2.0",
     "model_name": "LayoutModel",
     "state": {
      "_model_module": "@jupyter-widgets/base",
      "_model_module_version": "1.2.0",
      "_model_name": "LayoutModel",
      "_view_count": null,
      "_view_module": "@jupyter-widgets/base",
      "_view_module_version": "1.2.0",
      "_view_name": "LayoutView",
      "align_content": null,
      "align_items": null,
      "align_self": null,
      "border": null,
      "bottom": null,
      "display": null,
      "flex": null,
      "flex_flow": null,
      "grid_area": null,
      "grid_auto_columns": null,
      "grid_auto_flow": null,
      "grid_auto_rows": null,
      "grid_column": null,
      "grid_gap": null,
      "grid_row": null,
      "grid_template_areas": null,
      "grid_template_columns": null,
      "grid_template_rows": null,
      "height": null,
      "justify_content": null,
      "justify_items": null,
      "left": null,
      "margin": null,
      "max_height": null,
      "max_width": null,
      "min_height": null,
      "min_width": null,
      "object_fit": null,
      "object_position": null,
      "order": null,
      "overflow": null,
      "overflow_x": null,
      "overflow_y": null,
      "padding": null,
      "right": null,
      "top": null,
      "visibility": null,
      "width": null
     }
    },
    "b5bf4d76b3a84cf1abc88c23c7f7c935": {
     "model_module": "@jupyter-widgets/controls",
     "model_module_version": "1.5.0",
     "model_name": "FloatProgressModel",
     "state": {
      "_dom_classes": [],
      "_model_module": "@jupyter-widgets/controls",
      "_model_module_version": "1.5.0",
      "_model_name": "FloatProgressModel",
      "_view_count": null,
      "_view_module": "@jupyter-widgets/controls",
      "_view_module_version": "1.5.0",
      "_view_name": "ProgressView",
      "bar_style": "success",
      "description": "",
      "description_tooltip": null,
      "layout": "IPY_MODEL_9343eea5e33a44f5a7c005923abd69f1",
      "max": 6,
      "min": 0,
      "orientation": "horizontal",
      "style": "IPY_MODEL_a53dd773658c4777ab164003196b9bdf",
      "value": 6
     }
    },
    "b752a699ce964ee7a234eab9578a3fc8": {
     "model_module": "@jupyter-widgets/controls",
     "model_module_version": "1.5.0",
     "model_name": "HTMLModel",
     "state": {
      "_dom_classes": [],
      "_model_module": "@jupyter-widgets/controls",
      "_model_module_version": "1.5.0",
      "_model_name": "HTMLModel",
      "_view_count": null,
      "_view_module": "@jupyter-widgets/controls",
      "_view_module_version": "1.5.0",
      "_view_name": "HTMLView",
      "description": "",
      "description_tooltip": null,
      "layout": "IPY_MODEL_a43855635cbe4474b9bfc448a02c0e96",
      "placeholder": "​",
      "style": "IPY_MODEL_4a5886b1395044ceb8e027d05a35e312",
      "value": " 6/6 [00:04&lt;00:00,  1.40it/s]"
     }
    },
    "cc098df646ae4edc93f54ee86cecc622": {
     "model_module": "@jupyter-widgets/base",
     "model_module_version": "1.2.0",
     "model_name": "LayoutModel",
     "state": {
      "_model_module": "@jupyter-widgets/base",
      "_model_module_version": "1.2.0",
      "_model_name": "LayoutModel",
      "_view_count": null,
      "_view_module": "@jupyter-widgets/base",
      "_view_module_version": "1.2.0",
      "_view_name": "LayoutView",
      "align_content": null,
      "align_items": null,
      "align_self": null,
      "border": null,
      "bottom": null,
      "display": null,
      "flex": null,
      "flex_flow": null,
      "grid_area": null,
      "grid_auto_columns": null,
      "grid_auto_flow": null,
      "grid_auto_rows": null,
      "grid_column": null,
      "grid_gap": null,
      "grid_row": null,
      "grid_template_areas": null,
      "grid_template_columns": null,
      "grid_template_rows": null,
      "height": null,
      "justify_content": null,
      "justify_items": null,
      "left": null,
      "margin": null,
      "max_height": null,
      "max_width": null,
      "min_height": null,
      "min_width": null,
      "object_fit": null,
      "object_position": null,
      "order": null,
      "overflow": null,
      "overflow_x": null,
      "overflow_y": null,
      "padding": null,
      "right": null,
      "top": null,
      "visibility": null,
      "width": null
     }
    },
    "f013205a1aed421e9ff54cf2a3252a54": {
     "model_module": "@jupyter-widgets/controls",
     "model_module_version": "1.5.0",
     "model_name": "HBoxModel",
     "state": {
      "_dom_classes": [],
      "_model_module": "@jupyter-widgets/controls",
      "_model_module_version": "1.5.0",
      "_model_name": "HBoxModel",
      "_view_count": null,
      "_view_module": "@jupyter-widgets/controls",
      "_view_module_version": "1.5.0",
      "_view_name": "HBoxView",
      "box_style": "",
      "children": [
       "IPY_MODEL_8d119ea6fed348ce832b618895ce32be",
       "IPY_MODEL_68977e771dc146b6bcd973f84b59d898",
       "IPY_MODEL_1fb75eb046ae4f3d915fd8daf0a5eab1"
      ],
      "layout": "IPY_MODEL_32fe2aed47eb444a95707ec8533228f7"
     }
    }
   }
  }
 },
 "nbformat": 4,
 "nbformat_minor": 4
}
